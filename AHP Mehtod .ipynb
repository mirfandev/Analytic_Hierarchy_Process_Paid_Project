{
 "cells": [
  {
   "cell_type": "code",
   "execution_count": 1,
   "id": "9719318d",
   "metadata": {},
   "outputs": [],
   "source": [
    "import numpy as np"
   ]
  },
  {
   "cell_type": "code",
   "execution_count": 2,
   "id": "14014c3c",
   "metadata": {},
   "outputs": [
    {
     "name": "stdout",
     "output_type": "stream",
     "text": [
      "Enter No. of Attributes you want to include your AHP Analysis: 3\n"
     ]
    }
   ],
   "source": [
    "r = int(input(\"Enter No. of Attributes you want to include your AHP Analysis: \"))"
   ]
  },
  {
   "cell_type": "code",
   "execution_count": 3,
   "id": "a4bb26e6",
   "metadata": {},
   "outputs": [],
   "source": [
    "l = r * r"
   ]
  },
  {
   "cell_type": "code",
   "execution_count": 4,
   "id": "cc4b6a1c",
   "metadata": {},
   "outputs": [
    {
     "name": "stdout",
     "output_type": "stream",
     "text": [
      "Enter a value: 1\n",
      "Enter a value: 1\n",
      "Enter a value: 1\n",
      "Enter a value: 2\n",
      "Enter a value: 2\n",
      "Enter a value: 2\n",
      "Enter a value: 3\n",
      "Enter a value: 3\n",
      "Enter a value: 3\n"
     ]
    }
   ],
   "source": [
    "list1 = []\n",
    "for i in range(l):\n",
    "    user_input1 = (input(\"Enter a value: \"))\n",
    "    user_input = float(user_input1)\n",
    "    list1.append(user_input)\n"
   ]
  },
  {
   "cell_type": "code",
   "execution_count": 5,
   "id": "f3040064",
   "metadata": {},
   "outputs": [],
   "source": [
    "ar = np.array(list1)"
   ]
  },
  {
   "cell_type": "code",
   "execution_count": 6,
   "id": "d765014a",
   "metadata": {},
   "outputs": [],
   "source": [
    "ar = ar.reshape(r, r)\n"
   ]
  },
  {
   "cell_type": "code",
   "execution_count": 7,
   "id": "1beb84d0",
   "metadata": {},
   "outputs": [
    {
     "data": {
      "text/plain": [
       "array([[1., 1., 1.],\n",
       "       [2., 2., 2.],\n",
       "       [3., 3., 3.]])"
      ]
     },
     "execution_count": 7,
     "metadata": {},
     "output_type": "execute_result"
    }
   ],
   "source": [
    "ar"
   ]
  },
  {
   "cell_type": "code",
   "execution_count": 8,
   "id": "2ba5cdb1",
   "metadata": {},
   "outputs": [],
   "source": [
    "l_ar = ar.sum(axis=0)"
   ]
  },
  {
   "cell_type": "code",
   "execution_count": 9,
   "id": "5e608bd9",
   "metadata": {},
   "outputs": [
    {
     "data": {
      "text/plain": [
       "array([6., 6., 6.])"
      ]
     },
     "execution_count": 9,
     "metadata": {},
     "output_type": "execute_result"
    }
   ],
   "source": [
    "l_ar"
   ]
  },
  {
   "cell_type": "code",
   "execution_count": 10,
   "id": "c7cc3cc3",
   "metadata": {
    "scrolled": true
   },
   "outputs": [
    {
     "data": {
      "text/plain": [
       "array([[0.16666667, 0.16666667, 0.16666667],\n",
       "       [0.16666667, 0.16666667, 0.16666667],\n",
       "       [0.16666667, 0.16666667, 0.16666667]])"
      ]
     },
     "execution_count": 10,
     "metadata": {},
     "output_type": "execute_result"
    }
   ],
   "source": [
    "l_ar\n",
    "l_ar_m = np.ones((r, r))\n",
    "for i in range(r):\n",
    "    e = (l_ar[i])\n",
    "    \n",
    "    l_ar_m\n",
    "    l_ar_m[:,i] *= e\n",
    "\n",
    "    \n",
    "l_ar_m\n",
    "l_ar_od = 1/l_ar_m\n",
    "l_ar_od"
   ]
  },
  {
   "cell_type": "code",
   "execution_count": 11,
   "id": "b444b57d",
   "metadata": {},
   "outputs": [
    {
     "data": {
      "text/plain": [
       "array([[0.16666667, 0.16666667, 0.16666667],\n",
       "       [0.33333333, 0.33333333, 0.33333333],\n",
       "       [0.5       , 0.5       , 0.5       ]])"
      ]
     },
     "execution_count": 11,
     "metadata": {},
     "output_type": "execute_result"
    }
   ],
   "source": [
    "normalize = ar * l_ar_od\n",
    "normalize"
   ]
  },
  {
   "cell_type": "code",
   "execution_count": 12,
   "id": "1378523d",
   "metadata": {},
   "outputs": [
    {
     "data": {
      "text/plain": [
       "array([0.16666667, 0.33333333, 0.5       ])"
      ]
     },
     "execution_count": 12,
     "metadata": {},
     "output_type": "execute_result"
    }
   ],
   "source": [
    "rsum = normalize.sum(axis=1)\n",
    "rsum\n",
    "rsum_n = rsum/r\n",
    "rsum_n"
   ]
  },
  {
   "cell_type": "code",
   "execution_count": 13,
   "id": "15f3d99b",
   "metadata": {},
   "outputs": [
    {
     "data": {
      "text/plain": [
       "array([[0.16666667, 0.33333333, 0.5       ],\n",
       "       [0.33333333, 0.66666667, 1.        ],\n",
       "       [0.5       , 1.        , 1.5       ]])"
      ]
     },
     "execution_count": 13,
     "metadata": {},
     "output_type": "execute_result"
    }
   ],
   "source": [
    "rsum_n\n",
    "rsum_m = np.ones((r, r))\n",
    "for i in range(r):\n",
    "    b = (rsum_n[i])\n",
    "    \n",
    "    rsum_m[:,i] *= b\n",
    "rsum_m\n",
    "\n",
    "nbra = ar * rsum_m\n",
    "nbra"
   ]
  },
  {
   "cell_type": "code",
   "execution_count": 14,
   "id": "2909528a",
   "metadata": {},
   "outputs": [
    {
     "data": {
      "text/plain": [
       "array([1., 2., 3.])"
      ]
     },
     "execution_count": 14,
     "metadata": {},
     "output_type": "execute_result"
    }
   ],
   "source": [
    "wsv = nbra.sum(axis=1)\n",
    "wsv"
   ]
  },
  {
   "cell_type": "code",
   "execution_count": 15,
   "id": "11bed52d",
   "metadata": {},
   "outputs": [
    {
     "data": {
      "text/plain": [
       "array([6., 6., 6.])"
      ]
     },
     "execution_count": 15,
     "metadata": {},
     "output_type": "execute_result"
    }
   ],
   "source": [
    "wsv\n",
    "\n",
    "cw = rsum_n\n",
    "cw\n",
    "\n",
    "rwsvcw = wsv/cw\n",
    "rwsvcw\n",
    "\n"
   ]
  },
  {
   "cell_type": "code",
   "execution_count": 16,
   "id": "03896abf",
   "metadata": {},
   "outputs": [
    {
     "name": "stdout",
     "output_type": "stream",
     "text": [
      "Value of λ_max is:  6.0\n"
     ]
    }
   ],
   "source": [
    "lmax = rwsvcw.sum(axis=0)\n",
    "lmax\n",
    "lmax = lmax/r\n",
    "\n",
    "print(\"Value of λ_max is: \", lmax)"
   ]
  },
  {
   "cell_type": "code",
   "execution_count": 17,
   "id": "cd1c86ed",
   "metadata": {},
   "outputs": [
    {
     "data": {
      "text/plain": [
       "1.5"
      ]
     },
     "execution_count": 17,
     "metadata": {},
     "output_type": "execute_result"
    }
   ],
   "source": [
    "#Consistancy Index\n",
    "# CI = lmax - n / n -1\n",
    "lmax\n",
    "ci = (lmax - r)/(r-1)\n",
    "ci"
   ]
  },
  {
   "cell_type": "code",
   "execution_count": 18,
   "id": "bd3c1899",
   "metadata": {},
   "outputs": [
    {
     "name": "stdout",
     "output_type": "stream",
     "text": [
      "Random Index according your input matrix size is:  0.58\n",
      "Consistancy Ratio: 2.586206896551724\n"
     ]
    }
   ],
   "source": [
    "# Consistancy Ratio CR ?\n",
    "# Consistancy Index\n",
    "# Random Index = RI\n",
    "# cr = ci/ri\n",
    "ci\n",
    "n = str(r)\n",
    "# ri\n",
    "dict_n_ri = {'1': 0.00, '2': 0.00, '3': 0.58, '4': 0.90, '5': 1.12, '6': 1.24, '7': 1.32, '8': 1.41, '9': 1.45, '10': 1.49}\n",
    "print (\"Random Index according your input matrix size is: \", dict_n_ri[n])\n",
    "ri = dict_n_ri[n]\n",
    "cr = ci/ri\n",
    "cr\n",
    "print(\"Consistancy Ratio:\", cr)"
   ]
  },
  {
   "cell_type": "code",
   "execution_count": 19,
   "id": "f809acd9",
   "metadata": {},
   "outputs": [
    {
     "name": "stdout",
     "output_type": "stream",
     "text": [
      "According AHP Standard Consistancy Ratio should less than 0.10.\n",
      "If is it, then we can assume that our metrics is reasonably consistent and we may continue with the process of decision making using AHP\n",
      "\n",
      "Consistancy Ratio of your provided data set is:  2.586206896551724\n",
      "\n",
      "Criteria weights percentage of your provided data set is:  [16.66666667 33.33333333 50.        ]\n",
      "\n",
      "Data set displaying here are in exact same order of your provided sequence of attributes.\n"
     ]
    }
   ],
   "source": [
    "cr\n",
    "print(\"According AHP Standard Consistancy Ratio should less than 0.10.\") \n",
    "print(\"If is it, then we can assume that our metrics is reasonably consistent and we may continue with the process of decision making using AHP\")\n",
    "print(\"\")\n",
    "print(\"Consistancy Ratio of your provided data set is: \", cr)\n",
    "print(\"\")\n",
    "cw\n",
    "cwp = cw*100\n",
    "cwp\n",
    "print(\"Criteria weights percentage of your provided data set is: \", cwp)\n",
    "print(\"\")\n",
    "print(\"Data set displaying here are in exact same order of your provided sequence of attributes.\")\n"
   ]
  }
 ],
 "metadata": {
  "kernelspec": {
   "display_name": "Python 3 (ipykernel)",
   "language": "python",
   "name": "python3"
  },
  "language_info": {
   "codemirror_mode": {
    "name": "ipython",
    "version": 3
   },
   "file_extension": ".py",
   "mimetype": "text/x-python",
   "name": "python",
   "nbconvert_exporter": "python",
   "pygments_lexer": "ipython3",
   "version": "3.10.7"
  }
 },
 "nbformat": 4,
 "nbformat_minor": 5
}
